{
 "cells": [
  {
   "cell_type": "markdown",
   "metadata": {},
   "source": [
    "## Answering business questions with SQL \n",
    "case with the database Chinetook, a store for music \n"
   ]
  },
  {
   "cell_type": "markdown",
   "metadata": {},
   "source": [
    "####  Loading the database"
   ]
  },
  {
   "cell_type": "code",
   "execution_count": 1,
   "metadata": {},
   "outputs": [],
   "source": [
    "import sqlite3 "
   ]
  },
  {
   "cell_type": "code",
   "execution_count": 3,
   "metadata": {},
   "outputs": [],
   "source": [
    "%%capture\n",
    "%load_ext sql\n",
    "%sql sqlite:///chinook.db"
   ]
  },
  {
   "cell_type": "markdown",
   "metadata": {},
   "source": [
    "#### Overview of the data "
   ]
  },
  {
   "cell_type": "code",
   "execution_count": null,
   "metadata": {},
   "outputs": [],
   "source": [
    "%%sql\n",
    "SELECT\n",
    "    name,\n",
    "    type\n",
    "FROM sqlite_master\n",
    "WHERE type IN ('table','view');"
   ]
  },
  {
   "cell_type": "markdown",
   "metadata": {},
   "source": [
    "#### Selecting Albums to purchase:\n",
    "The Chinook record store has just signed a deal with a new record label, and you've been tasked with selecting the first three albums that will be added to the store, from a list of four. All four albums are by artists that don't have any tracks in the store right now - we have the artist names, and the genre of music they produce:\n",
    "\n",
    "Artist_Name\tGenre\n",
    "    -Regal\tHip-Hop\n",
    "    -Red Tone\tPunk\n",
    "    -Meteor and the Girls\tPop\n",
    "    -Slim Jim Bites\tBlues\n",
    "The record label specializes in artists from the USA, and they have given Chinook some money to advertise the new albums in the USA, so we're interested in finding out which genres sell the best in the USA.\n",
    "\n",
    "=> before recommanding what 3 albums we should selected we need to find **what music Genre sells the best in USA**\n",
    "\n",
    "    1-isolated the sells in USA \n",
    "    2-find the trakcs corresponds to these invoices in USA\n",
    "    3-find the genre of each tracks\n",
    "    4-then compute the numbers of each genres sold \n",
    "    5-BUT a good info is also how much we sold in total for each genre (maybe a niche group where people are ready to spend more money)"
   ]
  },
  {
   "cell_type": "code",
   "execution_count": null,
   "metadata": {},
   "outputs": [],
   "source": []
  },
  {
   "cell_type": "code",
   "execution_count": null,
   "metadata": {},
   "outputs": [],
   "source": [
    "%%sql\n",
    "SELECT\n",
    "    billing_country country,\n",
    "    SUM(total) total_per_country,          /* calcul $ per country */\n",
    "    ROUND(SUM(total) / (SELECT SUM(total)  /* calcul %sales per country */\n",
    "                        FROM invoice\n",
    "                       )\n",
    "                       *100,2) || '%'   share_per_country\n",
    "FROM invoice \n",
    "GROUP BY country\n",
    "ORDER BY total_per_country DESC"
   ]
  },
  {
   "cell_type": "markdown",
   "metadata": {},
   "source": [
    "- As seen above it makes sense to start to introduce new products in USA as it represents 1/5 of the store's market"
   ]
  },
  {
   "cell_type": "markdown",
   "metadata": {},
   "source": [
    "##### -isolate the bills from USA"
   ]
  },
  {
   "cell_type": "code",
   "execution_count": null,
   "metadata": {},
   "outputs": [],
   "source": [
    "%%sql\n",
    "CREATE VIEW billing_usa AS\n",
    "    SELECT * \n",
    "    FROM invoice\n",
    "    WHERE billing_country='USA'"
   ]
  },
  {
   "cell_type": "code",
   "execution_count": null,
   "metadata": {
    "scrolled": false
   },
   "outputs": [],
   "source": [
    "%%sql\n",
    "CREATE VIEW usa_track_genre AS\n",
    "    SELECT\n",
    "        il.invoice_id,\n",
    "        il.invoice_line_id,\n",
    "        track.name track_name,\n",
    "        il.quantity track_quantity,\n",
    "        il.unit_price,\n",
    "        genre.name genre_name\n",
    "           \n",
    "    FROM billing_usa\n",
    "    INNER JOIN invoice_line il ON billing_usa.invoice_id = il.invoice_id\n",
    "    INNER JOIN track ON track.track_id = il.track_id\n",
    "    inner JOIN genre ON genre.genre_id = track.genre_id"
   ]
  },
  {
   "cell_type": "code",
   "execution_count": null,
   "metadata": {},
   "outputs": [],
   "source": [
    "%%sql\n",
    "\n",
    "SELECT \n",
    "    genre_name,\n",
    "    COUNT(genre_name) quantity,\n",
    "    CAST(COUNT(genre_name) as float)/(SELECT sum(track_quantity)\n",
    "                                      FROM usa_track_genre)\n",
    "         *100 || '%' per_sells\n",
    "FROM usa_track_genre\n",
    "GROUP BY genre_name\n",
    "ORDER BY quantity DESC;"
   ]
  },
  {
   "cell_type": "markdown",
   "metadata": {},
   "source": [
    "- more than half of the market is hold by the Rock genre. \n",
    "- Based on these statistics among the 4 proposes artistes I would recommend\n",
    "    - Red Tone (Punk)\n",
    "    - Slim Jim Bites (Blues)\n",
    "    - Metor and the Girls (Pop)\n",
    "- to be notice the pop and blues genres follow in ranking so the choice of one over the other should be decided on another metrics\n",
    "    "
   ]
  },
  {
   "cell_type": "markdown",
   "metadata": {},
   "source": [
    "### Analyzing Employee Sales Performance  "
   ]
  },
  {
   "cell_type": "code",
   "execution_count": null,
   "metadata": {},
   "outputs": [],
   "source": [
    "%%sql \n",
    "\n",
    "SELECT \n",
    "    e.first_name ||' '|| e.last_name employee_name,\n",
    "    SUM(i.total) total_sold,\n",
    "    e.hire_date hiring_date,\n",
    "    e.title,\n",
    "    e.birthdate birthdate, \n",
    "    e.country country\n",
    "FROM invoice i\n",
    "INNER JOIN customer c on c.customer_id = i.customer_id\n",
    "INNER join employee e on e.employee_id = c.support_rep_id\n",
    "GROUP BY c.support_rep_id\n",
    "ORDER BY total_sold DESC;"
   ]
  },
  {
   "cell_type": "code",
   "execution_count": null,
   "metadata": {},
   "outputs": [],
   "source": [
    "%%sql \n",
    "\n",
    "SELECT \n",
    "    e.first_name ||' '|| e.last_name employee_name,\n",
    "    SUM(billing_USA.total) total_sold,\n",
    "    e.hire_date hiring_date,\n",
    "    e.title,\n",
    "    e.birthdate birthdate, \n",
    "    e.country country\n",
    "FROM billing_USA \n",
    "INNER JOIN customer c on c.customer_id = billing_USA.customer_id\n",
    "INNER join employee e on e.employee_id = c.support_rep_id\n",
    "GROUP BY c.support_rep_id\n",
    "ORDER BY total_sold DESC;"
   ]
  },
  {
   "cell_type": "markdown",
   "metadata": {},
   "source": [
    "- there are only 3 employees responsible for the selling support\n",
    "- the total sold per employee correlates with their date of arrival at the compagny so it makes senses\n",
    "- the age does not seem to matter for the selling ranking\n",
    "- if we take a closer looker at USA selling report, the ranking is really different, so it might that each seller specialised in a number of country and even maybe in different music Genres, so are they specialsed ? it should be checking"
   ]
  },
  {
   "cell_type": "markdown",
   "metadata": {},
   "source": [
    "##  Analyzing Sales by Country\n",
    "to the contrary of the first cells of this jupyter we will focus on the country of the customers and not of the billing\n",
    "\n",
    " => for more help on understand the *where country = c.country* go https://community.dataquest.io/t/191-5-answering-business-questions-using-sql/8894/2"
   ]
  },
  {
   "cell_type": "code",
   "execution_count": null,
   "metadata": {},
   "outputs": [],
   "source": [
    "%%sql\n",
    "\n",
    "WITH other_or_country AS \n",
    "    (SELECT\n",
    "     CASE\n",
    "             WHEN (\n",
    "                 SELECT count(*)\n",
    "                 FROM customer\n",
    "                 where country = c.country\n",
    "                   ) = 1 THEN \"Other\"\n",
    "             ELSE c.country\n",
    "     END AS country,\n",
    "     c.customer_id,\n",
    "     il.*\n",
    "     FROM invoice_line il\n",
    "     INNER JOIN invoice i ON i.invoice_id = il.invoice_id\n",
    "     INNER JOIN customer c ON c.customer_id = i.customer_id\n",
    "    )\n",
    "\n",
    "SELECT *\n",
    "\n",
    "FROM other_or_country\n",
    "limit 5"
   ]
  },
  {
   "cell_type": "code",
   "execution_count": null,
   "metadata": {},
   "outputs": [],
   "source": [
    "%%sql\n",
    "\n",
    "WITH other_or_country AS \n",
    "    (SELECT\n",
    "     CASE\n",
    "             WHEN (\n",
    "                 SELECT count(*)\n",
    "                 FROM customer\n",
    "                 where country = c.country\n",
    "                   ) = 1 THEN \"Other\"\n",
    "             ELSE c.country\n",
    "     END AS country,\n",
    "     c.customer_id,\n",
    "     il.*\n",
    "     FROM invoice_line il\n",
    "     INNER JOIN invoice i ON i.invoice_id = il.invoice_id\n",
    "     INNER JOIN customer c ON c.customer_id = i.customer_id\n",
    "    )\n",
    "\n",
    "    \n",
    "SELECT\n",
    "    COUNTRY,\n",
    "    number_customers,\n",
    "    ROUND(total_sales,2) total_sales,\n",
    "    ROUND(average_per_order,2) average_per_order,\n",
    "    ROUND(average_sales_per_customer,2)average_sales_per_customer\n",
    "FROM (SELECT\n",
    "        COUNTRY,\n",
    "        COUNT(DISTINCT(customer_id)) number_customers,\n",
    "        SUM(unit_price) total_sales,\n",
    "        COUNT(DISTINCT(invoice_id)) number_order,\n",
    "        SUM(unit_price) / COUNT(DISTINCT(invoice_id)) average_per_order,\n",
    "        SUM(unit_price) / COUNT(DISTINCT(customer_id)) average_sales_per_customer,\n",
    "        CASE \n",
    "            WHEN country = 'Other' THEN 0\n",
    "            ELSE 1\n",
    "        END AS ord\n",
    "        FROM other_or_country\n",
    "        GROUP BY country\n",
    "        order by ord DESC, total_sales DESC\n",
    "      )\n",
    "    "
   ]
  },
  {
   "cell_type": "markdown",
   "metadata": {},
   "source": [
    "###  Albums vs Indidual Tracks"
   ]
  },
  {
   "cell_type": "markdown",
   "metadata": {},
   "source": [
    "The request:\n",
    "\n",
    "Write a query that categorizes each invoice as either an album purchase or not, and calculates the following summary statistics:\n",
    "Number of invoicesm\n",
    "Percentage of invoices"
   ]
  },
  {
   "cell_type": "markdown",
   "metadata": {},
   "source": [
    "I did not use the same method as proposed in the solution https://github.com/dataquestio/solutions/blob/master/Mission191Solutions.ipynb \n",
    "\n",
    "I think what I have done is simplier to write :\n",
    "\n",
    "    1- one subquery: group the invoice_line database by invoice_id & by album_id and add the number of tracks bought from each  album. \n",
    "    2- one subquery: group the track database by album and add the number of tracks on the album\n",
    "    3- left join the album_db to the invoice_db on the album_id \n",
    "    4- create a binary if the selling of for each album was a full album by comparing the number of tracks for each albums in each invoice vs the normal number of tracks\n",
    "    5- group again by invoice_id and sum the number of album per invoice\n",
    "    6- conclude"
   ]
  },
  {
   "cell_type": "code",
   "execution_count": null,
   "metadata": {},
   "outputs": [],
   "source": [
    "%%sql \n",
    "WITH invoices_album_tracks_sold AS\n",
    "    (\n",
    "    SELECT \n",
    "        invoice_id,\n",
    "        album_id,\n",
    "        COUNT(t.track_id) number_tracks_sold\n",
    "    FROM invoice_line il\n",
    "    INNER JOIN track t on t.track_id = il.track_id \n",
    "    GROUP BY invoice_id, album_id\n",
    "    ),\n",
    "\n",
    "albums_tracks_info AS\n",
    "    (\n",
    "    SELECT \n",
    "        album_id,\n",
    "        count(track_id) track_on_cd\n",
    "    from track\n",
    "    GROUP BY album_id  \n",
    "    ),\n",
    "\n",
    "invoices_with_full_album AS\n",
    "    (\n",
    "    SELECT \n",
    "    invoice_id,\n",
    "    iats.album_id,\n",
    "    CASE \n",
    "        WHEN (iats.number_tracks_sold = ati.track_on_cd and ati.track_on_cd > 2) THEN 1\n",
    "        ELSE 0\n",
    "        END AS full_album_sold\n",
    "    FROM invoices_album_tracks_sold iats\n",
    "    LEFT JOIN albums_tracks_info ati ON ati.album_id = iats.album_id\n",
    "    ),\n",
    "    \n",
    "unique_invoice_id_albums_sold AS\n",
    "    (\n",
    "    SELECT \n",
    "        invoice_id,\n",
    "        SUM(full_album_sold) album_sold\n",
    "    FROM invoices_with_full_album\n",
    "    GROUP BY invoice_id\n",
    "    )\n",
    "\n",
    "SELECT\n",
    "    COUNT(invoice_id) number_invoices,\n",
    "    SUM(album_sold) invoice_with_album_sold,\n",
    "    SUM(album_sold)/CAST(COUNT(invoice_id) as float) per_invoices_with_album\n",
    "FROM unique_invoice_id_albums_sold"
   ]
  },
  {
   "cell_type": "markdown",
   "metadata": {},
   "source": [
    "Conclusion 18% of all the invoices includes at least one album (some with more tracks in addition), so it would be a bad move to not propose to the clients to buy the full albums."
   ]
  },
  {
   "cell_type": "markdown",
   "metadata": {},
   "source": [
    "####  To go further\n",
    "If you'd like more practice, you can look at the schema and come up with some more business questions, and then write queries to answer them. Here are a few to get you started:\n",
    "\n",
    "- Which artist is used in the most playlists?\n",
    "- How many tracks have been purchased vs not purchased?\n",
    "- Is the range of tracks in the store reflective of their sales popularity?\n",
    "- Do protected vs non-protected media types have an effect on popularity?\n",
    "\n",
    "Link schematic Chinook database: https://s3.amazonaws.com/dq-content/189/chinook-schema.svg"
   ]
  }
 ],
 "metadata": {
  "kernelspec": {
   "display_name": "Python 3",
   "language": "python",
   "name": "python3"
  },
  "language_info": {
   "codemirror_mode": {
    "name": "ipython",
    "version": 3
   },
   "file_extension": ".py",
   "mimetype": "text/x-python",
   "name": "python",
   "nbconvert_exporter": "python",
   "pygments_lexer": "ipython3",
   "version": "3.7.6"
  }
 },
 "nbformat": 4,
 "nbformat_minor": 2
}
