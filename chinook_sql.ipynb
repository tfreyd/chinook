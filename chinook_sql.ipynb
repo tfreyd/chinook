{
 "cells": [
  {
   "cell_type": "markdown",
   "metadata": {},
   "source": [
    "# Answering business questions with SQL \n",
    "The data Chinokk\n",
    "case with the  Chinook database is a fictive database about a music store. \n",
    "\n",
    "We will use this dabatase and SQL language to answer different **business questions**:\n",
    "\n",
    "#### 1.Selecting Albums to add to the shop collection:\n",
    "the record label the shop has a agreement with proposed 4 new artists, the shop does not sell any songs form them yet.  The artists proposed are:\n",
    "    - Regal\t| Hip-Hop\n",
    "    - Red Tone|\tPunk\n",
    "    - Meteor and the Girls|\tPop\n",
    "    - Slim Jim Bites | Blues\n",
    "\n",
    "The important part is: the record label is specialized in USA based artists and gave money to the shop for advirtisement. \n",
    "\n"
   ]
  },
  {
   "cell_type": "markdown",
   "metadata": {},
   "source": [
    "##  Loading the database"
   ]
  },
  {
   "cell_type": "code",
   "execution_count": 1,
   "metadata": {},
   "outputs": [],
   "source": [
    "import sqlite3 \n",
    "import pandas as pd\n",
    "import matplotlib.pyplot as plt\n",
    "import numpy as np"
   ]
  },
  {
   "cell_type": "markdown",
   "metadata": {},
   "source": [
    "- connection to the local database"
   ]
  },
  {
   "cell_type": "code",
   "execution_count": 2,
   "metadata": {},
   "outputs": [],
   "source": [
    "%%capture\n",
    "%load_ext sql\n",
    "%sql sqlite:///chinook.db"
   ]
  },
  {
   "cell_type": "markdown",
   "metadata": {},
   "source": [
    "## Overview of the data "
   ]
  },
  {
   "cell_type": "code",
   "execution_count": 3,
   "metadata": {},
   "outputs": [
    {
     "name": "stdout",
     "output_type": "stream",
     "text": [
      " * sqlite:///chinook.db\n",
      "Done.\n"
     ]
    },
    {
     "data": {
      "text/html": [
       "<table>\n",
       "    <tr>\n",
       "        <th>name</th>\n",
       "        <th>type</th>\n",
       "    </tr>\n",
       "    <tr>\n",
       "        <td>album</td>\n",
       "        <td>table</td>\n",
       "    </tr>\n",
       "    <tr>\n",
       "        <td>artist</td>\n",
       "        <td>table</td>\n",
       "    </tr>\n",
       "    <tr>\n",
       "        <td>customer</td>\n",
       "        <td>table</td>\n",
       "    </tr>\n",
       "    <tr>\n",
       "        <td>employee</td>\n",
       "        <td>table</td>\n",
       "    </tr>\n",
       "    <tr>\n",
       "        <td>genre</td>\n",
       "        <td>table</td>\n",
       "    </tr>\n",
       "    <tr>\n",
       "        <td>invoice</td>\n",
       "        <td>table</td>\n",
       "    </tr>\n",
       "    <tr>\n",
       "        <td>invoice_line</td>\n",
       "        <td>table</td>\n",
       "    </tr>\n",
       "    <tr>\n",
       "        <td>media_type</td>\n",
       "        <td>table</td>\n",
       "    </tr>\n",
       "    <tr>\n",
       "        <td>playlist</td>\n",
       "        <td>table</td>\n",
       "    </tr>\n",
       "    <tr>\n",
       "        <td>playlist_track</td>\n",
       "        <td>table</td>\n",
       "    </tr>\n",
       "    <tr>\n",
       "        <td>track</td>\n",
       "        <td>table</td>\n",
       "    </tr>\n",
       "</table>"
      ],
      "text/plain": [
       "[('album', 'table'),\n",
       " ('artist', 'table'),\n",
       " ('customer', 'table'),\n",
       " ('employee', 'table'),\n",
       " ('genre', 'table'),\n",
       " ('invoice', 'table'),\n",
       " ('invoice_line', 'table'),\n",
       " ('media_type', 'table'),\n",
       " ('playlist', 'table'),\n",
       " ('playlist_track', 'table'),\n",
       " ('track', 'table')]"
      ]
     },
     "execution_count": 3,
     "metadata": {},
     "output_type": "execute_result"
    }
   ],
   "source": [
    "%%sql\n",
    "SELECT\n",
    "    name,\n",
    "    type\n",
    "FROM sqlite_master\n",
    "WHERE type IN ('table','view');"
   ]
  },
  {
   "cell_type": "code",
   "execution_count": 4,
   "metadata": {},
   "outputs": [
    {
     "name": "stdout",
     "output_type": "stream",
     "text": [
      " * sqlite:///chinook.db\n",
      "Done.\n"
     ]
    },
    {
     "data": {
      "text/html": [
       "<table>\n",
       "    <tr>\n",
       "        <th>country</th>\n",
       "        <th>total_per_country</th>\n",
       "        <th>share_per_country</th>\n",
       "    </tr>\n",
       "    <tr>\n",
       "        <td>USA</td>\n",
       "        <td>1040.4899999999998</td>\n",
       "        <td>22.09%</td>\n",
       "    </tr>\n",
       "    <tr>\n",
       "        <td>Canada</td>\n",
       "        <td>535.5900000000001</td>\n",
       "        <td>11.37%</td>\n",
       "    </tr>\n",
       "    <tr>\n",
       "        <td>Brazil</td>\n",
       "        <td>427.68000000000006</td>\n",
       "        <td>9.08%</td>\n",
       "    </tr>\n",
       "    <tr>\n",
       "        <td>France</td>\n",
       "        <td>389.0699999999999</td>\n",
       "        <td>8.26%</td>\n",
       "    </tr>\n",
       "    <tr>\n",
       "        <td>Germany</td>\n",
       "        <td>334.62</td>\n",
       "        <td>7.11%</td>\n",
       "    </tr>\n",
       "    <tr>\n",
       "        <td>Czech Republic</td>\n",
       "        <td>273.24000000000007</td>\n",
       "        <td>5.8%</td>\n",
       "    </tr>\n",
       "    <tr>\n",
       "        <td>United Kingdom</td>\n",
       "        <td>245.52</td>\n",
       "        <td>5.21%</td>\n",
       "    </tr>\n",
       "    <tr>\n",
       "        <td>Portugal</td>\n",
       "        <td>185.13000000000002</td>\n",
       "        <td>3.93%</td>\n",
       "    </tr>\n",
       "    <tr>\n",
       "        <td>India</td>\n",
       "        <td>183.14999999999998</td>\n",
       "        <td>3.89%</td>\n",
       "    </tr>\n",
       "    <tr>\n",
       "        <td>Ireland</td>\n",
       "        <td>114.83999999999997</td>\n",
       "        <td>2.44%</td>\n",
       "    </tr>\n",
       "    <tr>\n",
       "        <td>Spain</td>\n",
       "        <td>98.01</td>\n",
       "        <td>2.08%</td>\n",
       "    </tr>\n",
       "    <tr>\n",
       "        <td>Chile</td>\n",
       "        <td>97.02000000000001</td>\n",
       "        <td>2.06%</td>\n",
       "    </tr>\n",
       "    <tr>\n",
       "        <td>Australia</td>\n",
       "        <td>81.18</td>\n",
       "        <td>1.72%</td>\n",
       "    </tr>\n",
       "    <tr>\n",
       "        <td>Finland</td>\n",
       "        <td>79.2</td>\n",
       "        <td>1.68%</td>\n",
       "    </tr>\n",
       "    <tr>\n",
       "        <td>Hungary</td>\n",
       "        <td>78.21</td>\n",
       "        <td>1.66%</td>\n",
       "    </tr>\n",
       "    <tr>\n",
       "        <td>Poland</td>\n",
       "        <td>76.22999999999999</td>\n",
       "        <td>1.62%</td>\n",
       "    </tr>\n",
       "    <tr>\n",
       "        <td>Sweden</td>\n",
       "        <td>75.24</td>\n",
       "        <td>1.6%</td>\n",
       "    </tr>\n",
       "    <tr>\n",
       "        <td>Norway</td>\n",
       "        <td>72.27000000000001</td>\n",
       "        <td>1.53%</td>\n",
       "    </tr>\n",
       "    <tr>\n",
       "        <td>Austria</td>\n",
       "        <td>69.3</td>\n",
       "        <td>1.47%</td>\n",
       "    </tr>\n",
       "    <tr>\n",
       "        <td>Netherlands</td>\n",
       "        <td>65.34</td>\n",
       "        <td>1.39%</td>\n",
       "    </tr>\n",
       "    <tr>\n",
       "        <td>Belgium</td>\n",
       "        <td>60.38999999999999</td>\n",
       "        <td>1.28%</td>\n",
       "    </tr>\n",
       "    <tr>\n",
       "        <td>Italy</td>\n",
       "        <td>50.49</td>\n",
       "        <td>1.07%</td>\n",
       "    </tr>\n",
       "    <tr>\n",
       "        <td>Argentina</td>\n",
       "        <td>39.6</td>\n",
       "        <td>0.84%</td>\n",
       "    </tr>\n",
       "    <tr>\n",
       "        <td>Denmark</td>\n",
       "        <td>37.61999999999999</td>\n",
       "        <td>0.8%</td>\n",
       "    </tr>\n",
       "</table>"
      ],
      "text/plain": [
       "[('USA', 1040.4899999999998, '22.09%'),\n",
       " ('Canada', 535.5900000000001, '11.37%'),\n",
       " ('Brazil', 427.68000000000006, '9.08%'),\n",
       " ('France', 389.0699999999999, '8.26%'),\n",
       " ('Germany', 334.62, '7.11%'),\n",
       " ('Czech Republic', 273.24000000000007, '5.8%'),\n",
       " ('United Kingdom', 245.52, '5.21%'),\n",
       " ('Portugal', 185.13000000000002, '3.93%'),\n",
       " ('India', 183.14999999999998, '3.89%'),\n",
       " ('Ireland', 114.83999999999997, '2.44%'),\n",
       " ('Spain', 98.01, '2.08%'),\n",
       " ('Chile', 97.02000000000001, '2.06%'),\n",
       " ('Australia', 81.18, '1.72%'),\n",
       " ('Finland', 79.2, '1.68%'),\n",
       " ('Hungary', 78.21, '1.66%'),\n",
       " ('Poland', 76.22999999999999, '1.62%'),\n",
       " ('Sweden', 75.24, '1.6%'),\n",
       " ('Norway', 72.27000000000001, '1.53%'),\n",
       " ('Austria', 69.3, '1.47%'),\n",
       " ('Netherlands', 65.34, '1.39%'),\n",
       " ('Belgium', 60.38999999999999, '1.28%'),\n",
       " ('Italy', 50.49, '1.07%'),\n",
       " ('Argentina', 39.6, '0.84%'),\n",
       " ('Denmark', 37.61999999999999, '0.8%')]"
      ]
     },
     "execution_count": 4,
     "metadata": {},
     "output_type": "execute_result"
    }
   ],
   "source": [
    "%%sql\n",
    "SELECT\n",
    "    billing_country country,\n",
    "    SUM(total) total_per_country,          /* calcul $ per country */\n",
    "    ROUND(SUM(total) / (SELECT SUM(total)  /* calcul %sales per country */\n",
    "                        FROM invoice\n",
    "                       )\n",
    "                       *100,2) || '%'   share_per_country\n",
    "FROM invoice \n",
    "GROUP BY country\n",
    "ORDER BY total_per_country DESC"
   ]
  },
  {
   "cell_type": "code",
   "execution_count": 5,
   "metadata": {
    "scrolled": true
   },
   "outputs": [],
   "source": [
    "sales_per_country = _.DataFrame()"
   ]
  },
  {
   "cell_type": "code",
   "execution_count": 6,
   "metadata": {},
   "outputs": [],
   "source": [
    "#using the country col as index\n",
    "sales_per_country.set_index('country', drop=True, inplace=True)"
   ]
  },
  {
   "cell_type": "code",
   "execution_count": 10,
   "metadata": {},
   "outputs": [],
   "source": [
    "sales_per_country['share_per_country'] = sales_per_country['share_per_country'].str.replace('%','').astype(float)"
   ]
  },
  {
   "cell_type": "code",
   "execution_count": 85,
   "metadata": {
    "scrolled": true
   },
   "outputs": [
    {
     "data": {
      "image/png": "[encoded data removed]",
      "text/plain": [
       "<Figure size 432x288 with 1 Axes>"
      ]
     },
     "metadata": {
      "needs_background": "light"
     },
     "output_type": "display_data"
    }
   ],
   "source": [
    "sales_per_country['share_per_country'].head(10).plot.bar(figsize=(6,4))\n",
    "plt.xticks(rotation=45,size=12)\n",
    "plt.ylabel('Market share %',size=12)\n",
    "plt.xlabel('Country',size=12)\n",
    "plt.title('Sales in the 10 best countries')\n",
    "plt.tight_layout()\n",
    "plt.savefig('tot_sales_per_country.svg')"
   ]
  },
  {
   "cell_type": "markdown",
   "metadata": {},
   "source": [
    "The USA represents more that 1/5 of the total sales of the disc shope hence it is important to nurture it by introducing new albums."
   ]
  },
  {
   "cell_type": "markdown",
   "metadata": {},
   "source": [
    "## 1.Selecting Albums to add to the shop collection:\n",
    "The four new artists are from different music style. In order to select the one with the best chance to be sold we need to analyze what music genres sell well in USA. so in the next block we will:\n",
    "\n",
    "- isolated the sells in USA \n",
    "- find the trakcs corresponds to these invoices in USA\n",
    "- find the genre of each tracks\n",
    "- then compute the numbers of each genres sold \n",
    "\n",
    "- BUT a good info is to know also how much we sold in total for each genre (maybe a niche group where people are ready to spend more money)"
   ]
  },
  {
   "cell_type": "markdown",
   "metadata": {},
   "source": [
    "- extract only the bills from USA\n",
    "We create some views in the SQL dabatase as it might serve us also later."
   ]
  },
  {
   "cell_type": "code",
   "execution_count": 24,
   "metadata": {},
   "outputs": [
    {
     "name": "stdout",
     "output_type": "stream",
     "text": [
      " * sqlite:///chinook.db\n",
      "Done.\n"
     ]
    },
    {
     "data": {
      "text/plain": [
       "[]"
      ]
     },
     "execution_count": 24,
     "metadata": {},
     "output_type": "execute_result"
    }
   ],
   "source": [
    "%%sql\n",
    "CREATE VIEW billing_usa AS\n",
    "    SELECT * \n",
    "    FROM invoice\n",
    "    WHERE billing_country='USA'"
   ]
  },
  {
   "cell_type": "markdown",
   "metadata": {},
   "source": [
    "- merging the info about the genre of the tracks founds in the bills from USA"
   ]
  },
  {
   "cell_type": "code",
   "execution_count": 25,
   "metadata": {
    "scrolled": false
   },
   "outputs": [
    {
     "name": "stdout",
     "output_type": "stream",
     "text": [
      " * sqlite:///chinook.db\n",
      "Done.\n"
     ]
    },
    {
     "data": {
      "text/plain": [
       "[]"
      ]
     },
     "execution_count": 25,
     "metadata": {},
     "output_type": "execute_result"
    }
   ],
   "source": [
    "%%sql\n",
    "CREATE VIEW usa_track_genre AS\n",
    "    SELECT\n",
    "        il.invoice_id,\n",
    "        il.invoice_line_id,\n",
    "        track.name track_name,\n",
    "        il.quantity track_quantity,\n",
    "        il.unit_price,\n",
    "        genre.name genre_name\n",
    "           \n",
    "    FROM billing_usa\n",
    "    INNER JOIN invoice_line il ON billing_usa.invoice_id = il.invoice_id\n",
    "    INNER JOIN track ON track.track_id = il.track_id\n",
    "    inner JOIN genre ON genre.genre_id = track.genre_id"
   ]
  },
  {
   "cell_type": "markdown",
   "metadata": {},
   "source": [
    "-  finally counts the total sales per music genre in USA"
   ]
  },
  {
   "cell_type": "code",
   "execution_count": 52,
   "metadata": {},
   "outputs": [
    {
     "name": "stdout",
     "output_type": "stream",
     "text": [
      " * sqlite:///chinook.db\n",
      "Done.\n"
     ]
    },
    {
     "data": {
      "text/html": [
       "<table>\n",
       "    <tr>\n",
       "        <th>genre_name</th>\n",
       "        <th>quantity</th>\n",
       "        <th>per_sales</th>\n",
       "    </tr>\n",
       "    <tr>\n",
       "        <td>Rock</td>\n",
       "        <td>561</td>\n",
       "        <td>53.37773549000951</td>\n",
       "    </tr>\n",
       "    <tr>\n",
       "        <td>Alternative &amp; Punk</td>\n",
       "        <td>130</td>\n",
       "        <td>12.369172216936251</td>\n",
       "    </tr>\n",
       "    <tr>\n",
       "        <td>Metal</td>\n",
       "        <td>124</td>\n",
       "        <td>11.798287345385347</td>\n",
       "    </tr>\n",
       "    <tr>\n",
       "        <td>R&amp;B/Soul</td>\n",
       "        <td>53</td>\n",
       "        <td>5.042816365366318</td>\n",
       "    </tr>\n",
       "    <tr>\n",
       "        <td>Blues</td>\n",
       "        <td>36</td>\n",
       "        <td>3.425309229305423</td>\n",
       "    </tr>\n",
       "    <tr>\n",
       "        <td>Alternative</td>\n",
       "        <td>35</td>\n",
       "        <td>3.3301617507136063</td>\n",
       "    </tr>\n",
       "    <tr>\n",
       "        <td>Pop</td>\n",
       "        <td>22</td>\n",
       "        <td>2.093244529019981</td>\n",
       "    </tr>\n",
       "    <tr>\n",
       "        <td>Latin</td>\n",
       "        <td>22</td>\n",
       "        <td>2.093244529019981</td>\n",
       "    </tr>\n",
       "    <tr>\n",
       "        <td>Hip Hop/Rap</td>\n",
       "        <td>20</td>\n",
       "        <td>1.9029495718363463</td>\n",
       "    </tr>\n",
       "    <tr>\n",
       "        <td>Jazz</td>\n",
       "        <td>14</td>\n",
       "        <td>1.3320647002854424</td>\n",
       "    </tr>\n",
       "    <tr>\n",
       "        <td>Easy Listening</td>\n",
       "        <td>13</td>\n",
       "        <td>1.236917221693625</td>\n",
       "    </tr>\n",
       "    <tr>\n",
       "        <td>Reggae</td>\n",
       "        <td>6</td>\n",
       "        <td>0.570884871550904</td>\n",
       "    </tr>\n",
       "    <tr>\n",
       "        <td>Electronica/Dance</td>\n",
       "        <td>5</td>\n",
       "        <td>0.47573739295908657</td>\n",
       "    </tr>\n",
       "    <tr>\n",
       "        <td>Classical</td>\n",
       "        <td>4</td>\n",
       "        <td>0.3805899143672693</td>\n",
       "    </tr>\n",
       "    <tr>\n",
       "        <td>Heavy Metal</td>\n",
       "        <td>3</td>\n",
       "        <td>0.285442435775452</td>\n",
       "    </tr>\n",
       "    <tr>\n",
       "        <td>Soundtrack</td>\n",
       "        <td>2</td>\n",
       "        <td>0.19029495718363465</td>\n",
       "    </tr>\n",
       "    <tr>\n",
       "        <td>TV Shows</td>\n",
       "        <td>1</td>\n",
       "        <td>0.09514747859181732</td>\n",
       "    </tr>\n",
       "</table>"
      ],
      "text/plain": [
       "[('Rock', 561, 53.37773549000951),\n",
       " ('Alternative & Punk', 130, 12.369172216936251),\n",
       " ('Metal', 124, 11.798287345385347),\n",
       " ('R&B/Soul', 53, 5.042816365366318),\n",
       " ('Blues', 36, 3.425309229305423),\n",
       " ('Alternative', 35, 3.3301617507136063),\n",
       " ('Pop', 22, 2.093244529019981),\n",
       " ('Latin', 22, 2.093244529019981),\n",
       " ('Hip Hop/Rap', 20, 1.9029495718363463),\n",
       " ('Jazz', 14, 1.3320647002854424),\n",
       " ('Easy Listening', 13, 1.236917221693625),\n",
       " ('Reggae', 6, 0.570884871550904),\n",
       " ('Electronica/Dance', 5, 0.47573739295908657),\n",
       " ('Classical', 4, 0.3805899143672693),\n",
       " ('Heavy Metal', 3, 0.285442435775452),\n",
       " ('Soundtrack', 2, 0.19029495718363465),\n",
       " ('TV Shows', 1, 0.09514747859181732)]"
      ]
     },
     "execution_count": 52,
     "metadata": {},
     "output_type": "execute_result"
    }
   ],
   "source": [
    "%%sql\n",
    "SELECT \n",
    "    genre_name,\n",
    "    COUNT(genre_name) quantity,\n",
    "    CAST(COUNT(genre_name) as float)/(SELECT sum(track_quantity)\n",
    "                                      FROM usa_track_genre)\n",
    "         *100 || '%' per_sales\n",
    "FROM usa_track_genre\n",
    "GROUP BY genre_name\n",
    "ORDER BY quantity DESC;"
   ]
  },
  {
   "cell_type": "code",
   "execution_count": 67,
   "metadata": {},
   "outputs": [],
   "source": [
    "#put the data into a DataFrame\n",
    "sales_genre_usa.index = ['Rock', 'Alt & Punk', 'Metal', 'R&B/Soul', 'Blues',\n",
    "       'Alternative', 'Pop', 'Latin', 'Hip Hop/Rap', 'Jazz', 'Easy Listening',\n",
    "       'Reggae', 'Electronica/Dance', 'Classical', 'Heavy Metal', 'Soundtrack',\n",
    "       'TV Shows']"
   ]
  },
  {
   "cell_type": "code",
   "execution_count": 68,
   "metadata": {},
   "outputs": [
    {
     "ename": "KeyError",
     "evalue": "\"None of ['genre_name'] are in the columns\"",
     "output_type": "error",
     "traceback": [
      "\u001b[0;31m---------------------------------------------------------------------------\u001b[0m",
      "\u001b[0;31mKeyError\u001b[0m                                  Traceback (most recent call last)",
      "\u001b[0;32m<ipython-input-68-4ed2db2f99dd>\u001b[0m in \u001b[0;36m<module>\u001b[0;34m\u001b[0m\n\u001b[0;32m----> 1\u001b[0;31m \u001b[0msales_genre_usa\u001b[0m\u001b[0;34m.\u001b[0m\u001b[0mset_index\u001b[0m\u001b[0;34m(\u001b[0m\u001b[0;34m'genre_name'\u001b[0m\u001b[0;34m,\u001b[0m\u001b[0mdrop\u001b[0m\u001b[0;34m=\u001b[0m\u001b[0;32mTrue\u001b[0m\u001b[0;34m,\u001b[0m\u001b[0minplace\u001b[0m\u001b[0;34m=\u001b[0m\u001b[0;32mTrue\u001b[0m\u001b[0;34m)\u001b[0m\u001b[0;34m\u001b[0m\u001b[0;34m\u001b[0m\u001b[0m\n\u001b[0m",
      "\u001b[0;32m~/anaconda3/lib/python3.7/site-packages/pandas/core/frame.py\u001b[0m in \u001b[0;36mset_index\u001b[0;34m(self, keys, drop, append, inplace, verify_integrity)\u001b[0m\n\u001b[1;32m   4301\u001b[0m \u001b[0;34m\u001b[0m\u001b[0m\n\u001b[1;32m   4302\u001b[0m         \u001b[0;32mif\u001b[0m \u001b[0mmissing\u001b[0m\u001b[0;34m:\u001b[0m\u001b[0;34m\u001b[0m\u001b[0;34m\u001b[0m\u001b[0m\n\u001b[0;32m-> 4303\u001b[0;31m             \u001b[0;32mraise\u001b[0m \u001b[0mKeyError\u001b[0m\u001b[0;34m(\u001b[0m\u001b[0;34mf\"None of {missing} are in the columns\"\u001b[0m\u001b[0;34m)\u001b[0m\u001b[0;34m\u001b[0m\u001b[0;34m\u001b[0m\u001b[0m\n\u001b[0m\u001b[1;32m   4304\u001b[0m \u001b[0;34m\u001b[0m\u001b[0m\n\u001b[1;32m   4305\u001b[0m         \u001b[0;32mif\u001b[0m \u001b[0minplace\u001b[0m\u001b[0;34m:\u001b[0m\u001b[0;34m\u001b[0m\u001b[0;34m\u001b[0m\u001b[0m\n",
      "\u001b[0;31mKeyError\u001b[0m: \"None of ['genre_name'] are in the columns\""
     ]
    }
   ],
   "source": [
    "sales_genre_usa.set_index('genre_name',drop=True,inplace=True)"
   ]
  },
  {
   "cell_type": "code",
   "execution_count": 86,
   "metadata": {},
   "outputs": [
    {
     "data": {
      "image/png": "[encoded data removed]",
      "text/plain": [
       "<Figure size 576x288 with 1 Axes>"
      ]
     },
     "metadata": {
      "needs_background": "light"
     },
     "output_type": "display_data"
    }
   ],
   "source": [
    "sales_genre_usa['per_sales'].head(10).plot.bar(figsize=(8,4))\n",
    "plt.xticks(rotation=45,size=12)\n",
    "plt.ylabel('USA sales %',size=12)\n",
    "plt.xlabel('Music Genre',size=12)\n",
    "plt.title('Sales music genre - USA',size=14)\n",
    "plt.tight_layout()\n",
    "plt.savefig('sales_music_genre_usa.jpg')"
   ]
  },
  {
   "cell_type": "markdown",
   "metadata": {},
   "source": [
    "- More than 50% of the sales in USA is rock music.\n",
    "- Based on these data,  among the 4 artists proposed by the record label I would recommend:\n",
    "    - Red Tone (Punk)\n",
    "    - Slim Jim Bites (Blues)\n",
    "    - Metor and the Girls (Pop)\n",
    "- to be notice the pop and blues genres follow in ranking so the choice of one over the other should be decided on another metrics\n",
    "    "
   ]
  },
  {
   "cell_type": "markdown",
   "metadata": {},
   "source": [
    "### Analyzing Employee Sales Performance  "
   ]
  },
  {
   "cell_type": "code",
   "execution_count": 74,
   "metadata": {},
   "outputs": [
    {
     "name": "stdout",
     "output_type": "stream",
     "text": [
      " * sqlite:///chinook.db\n",
      "Done.\n"
     ]
    },
    {
     "data": {
      "text/html": [
       "<table>\n",
       "    <tr>\n",
       "        <th>employee_name</th>\n",
       "        <th>total_sold</th>\n",
       "        <th>hiring_date</th>\n",
       "        <th>title</th>\n",
       "        <th>birthdate</th>\n",
       "        <th>country</th>\n",
       "    </tr>\n",
       "    <tr>\n",
       "        <td>Jane Peacock</td>\n",
       "        <td>1731.510000000004</td>\n",
       "        <td>2017-04-01 00:00:00</td>\n",
       "        <td>Sales Support Agent</td>\n",
       "        <td>1973-08-29 00:00:00</td>\n",
       "        <td>Canada</td>\n",
       "    </tr>\n",
       "    <tr>\n",
       "        <td>Margaret Park</td>\n",
       "        <td>1584.0000000000032</td>\n",
       "        <td>2017-05-03 00:00:00</td>\n",
       "        <td>Sales Support Agent</td>\n",
       "        <td>1947-09-19 00:00:00</td>\n",
       "        <td>Canada</td>\n",
       "    </tr>\n",
       "    <tr>\n",
       "        <td>Steve Johnson</td>\n",
       "        <td>1393.9200000000028</td>\n",
       "        <td>2017-10-17 00:00:00</td>\n",
       "        <td>Sales Support Agent</td>\n",
       "        <td>1965-03-03 00:00:00</td>\n",
       "        <td>Canada</td>\n",
       "    </tr>\n",
       "</table>"
      ],
      "text/plain": [
       "[('Jane Peacock', 1731.510000000004, '2017-04-01 00:00:00', 'Sales Support Agent', '1973-08-29 00:00:00', 'Canada'),\n",
       " ('Margaret Park', 1584.0000000000032, '2017-05-03 00:00:00', 'Sales Support Agent', '1947-09-19 00:00:00', 'Canada'),\n",
       " ('Steve Johnson', 1393.9200000000028, '2017-10-17 00:00:00', 'Sales Support Agent', '1965-03-03 00:00:00', 'Canada')]"
      ]
     },
     "execution_count": 74,
     "metadata": {},
     "output_type": "execute_result"
    }
   ],
   "source": [
    "%%sql \n",
    "\n",
    "SELECT \n",
    "    e.first_name ||' '|| e.last_name employee_name,\n",
    "    SUM(i.total) total_sold,\n",
    "    e.hire_date hiring_date,\n",
    "    e.title,\n",
    "    e.birthdate birthdate, \n",
    "    e.country country\n",
    "FROM invoice i\n",
    "INNER JOIN customer c on c.customer_id = i.customer_id\n",
    "INNER join employee e on e.employee_id = c.support_rep_id\n",
    "GROUP BY c.support_rep_id\n",
    "ORDER BY total_sold DESC;"
   ]
  },
  {
   "cell_type": "code",
   "execution_count": null,
   "metadata": {},
   "outputs": [],
   "source": [
    "%%sql \n",
    "\n",
    "SELECT \n",
    "    e.first_name ||' '|| e.last_name employee_name,\n",
    "    SUM(billing_USA.total) total_sold,\n",
    "    e.hire_date hiring_date,\n",
    "    e.title,\n",
    "    e.birthdate birthdate, \n",
    "    e.country country\n",
    "FROM billing_USA \n",
    "INNER JOIN customer c on c.customer_id = billing_USA.customer_id\n",
    "INNER join employee e on e.employee_id = c.support_rep_id\n",
    "GROUP BY c.support_rep_id\n",
    "ORDER BY total_sold DESC;"
   ]
  },
  {
   "cell_type": "markdown",
   "metadata": {},
   "source": [
    "- there are only 3 employees responsible for the selling support\n",
    "- the total sold per employee correlates with their date of arrival at the compagny so it makes senses\n",
    "- the age does not seem to matter for the selling ranking\n",
    "- if we take a closer looker at USA selling report, the ranking is really different, so it might that each seller specialised in a number of country and even maybe in different music Genres, so are they specialsed ? it should be checking"
   ]
  },
  {
   "cell_type": "markdown",
   "metadata": {},
   "source": [
    "##  Analyzing number customers by Country\n",
    "to the contrary of the first cells of this jupyter we will focus on the country of the customers and not of the billing\n",
    "\n",
    " => for more help on understand the *where country = c.country* go https://community.dataquest.io/t/191-5-answering-business-questions-using-sql/8894/2"
   ]
  },
  {
   "cell_type": "code",
   "execution_count": 75,
   "metadata": {},
   "outputs": [
    {
     "name": "stdout",
     "output_type": "stream",
     "text": [
      " * sqlite:///chinook.db\n",
      "Done.\n"
     ]
    },
    {
     "data": {
      "text/html": [
       "<table>\n",
       "    <tr>\n",
       "        <th>country</th>\n",
       "        <th>customer_id</th>\n",
       "        <th>invoice_line_id</th>\n",
       "        <th>invoice_id</th>\n",
       "        <th>track_id</th>\n",
       "        <th>unit_price</th>\n",
       "        <th>quantity</th>\n",
       "    </tr>\n",
       "    <tr>\n",
       "        <td>USA</td>\n",
       "        <td>18</td>\n",
       "        <td>1</td>\n",
       "        <td>1</td>\n",
       "        <td>1158</td>\n",
       "        <td>0.99</td>\n",
       "        <td>1</td>\n",
       "    </tr>\n",
       "    <tr>\n",
       "        <td>USA</td>\n",
       "        <td>18</td>\n",
       "        <td>2</td>\n",
       "        <td>1</td>\n",
       "        <td>1159</td>\n",
       "        <td>0.99</td>\n",
       "        <td>1</td>\n",
       "    </tr>\n",
       "    <tr>\n",
       "        <td>USA</td>\n",
       "        <td>18</td>\n",
       "        <td>3</td>\n",
       "        <td>1</td>\n",
       "        <td>1160</td>\n",
       "        <td>0.99</td>\n",
       "        <td>1</td>\n",
       "    </tr>\n",
       "    <tr>\n",
       "        <td>USA</td>\n",
       "        <td>18</td>\n",
       "        <td>4</td>\n",
       "        <td>1</td>\n",
       "        <td>1161</td>\n",
       "        <td>0.99</td>\n",
       "        <td>1</td>\n",
       "    </tr>\n",
       "    <tr>\n",
       "        <td>USA</td>\n",
       "        <td>18</td>\n",
       "        <td>5</td>\n",
       "        <td>1</td>\n",
       "        <td>1162</td>\n",
       "        <td>0.99</td>\n",
       "        <td>1</td>\n",
       "    </tr>\n",
       "</table>"
      ],
      "text/plain": [
       "[('USA', 18, 1, 1, 1158, 0.99, 1),\n",
       " ('USA', 18, 2, 1, 1159, 0.99, 1),\n",
       " ('USA', 18, 3, 1, 1160, 0.99, 1),\n",
       " ('USA', 18, 4, 1, 1161, 0.99, 1),\n",
       " ('USA', 18, 5, 1, 1162, 0.99, 1)]"
      ]
     },
     "execution_count": 75,
     "metadata": {},
     "output_type": "execute_result"
    }
   ],
   "source": [
    "%%sql\n",
    "\n",
    "WITH other_or_country AS \n",
    "    (SELECT\n",
    "     CASE\n",
    "             WHEN (\n",
    "                 SELECT count(*)\n",
    "                 FROM customer\n",
    "                 where country = c.country\n",
    "                   ) = 1 THEN \"Other\"\n",
    "             ELSE c.country\n",
    "     END AS country,\n",
    "     c.customer_id,\n",
    "     il.*\n",
    "     FROM invoice_line il\n",
    "     INNER JOIN invoice i ON i.invoice_id = il.invoice_id\n",
    "     INNER JOIN customer c ON c.customer_id = i.customer_id\n",
    "    )\n",
    "\n",
    "SELECT *\n",
    "\n",
    "FROM other_or_country\n",
    "limit 5"
   ]
  },
  {
   "cell_type": "code",
   "execution_count": 76,
   "metadata": {},
   "outputs": [
    {
     "name": "stdout",
     "output_type": "stream",
     "text": [
      " * sqlite:///chinook.db\n",
      "Done.\n"
     ]
    },
    {
     "data": {
      "text/html": [
       "<table>\n",
       "    <tr>\n",
       "        <th>COUNTRY</th>\n",
       "        <th>number_customers</th>\n",
       "        <th>total_sales</th>\n",
       "        <th>average_per_order</th>\n",
       "        <th>average_sales_per_customer</th>\n",
       "    </tr>\n",
       "    <tr>\n",
       "        <td>USA</td>\n",
       "        <td>13</td>\n",
       "        <td>1040.49</td>\n",
       "        <td>7.94</td>\n",
       "        <td>80.04</td>\n",
       "    </tr>\n",
       "    <tr>\n",
       "        <td>Canada</td>\n",
       "        <td>8</td>\n",
       "        <td>535.59</td>\n",
       "        <td>7.05</td>\n",
       "        <td>66.95</td>\n",
       "    </tr>\n",
       "    <tr>\n",
       "        <td>Brazil</td>\n",
       "        <td>5</td>\n",
       "        <td>427.68</td>\n",
       "        <td>7.01</td>\n",
       "        <td>85.54</td>\n",
       "    </tr>\n",
       "    <tr>\n",
       "        <td>France</td>\n",
       "        <td>5</td>\n",
       "        <td>389.07</td>\n",
       "        <td>7.78</td>\n",
       "        <td>77.81</td>\n",
       "    </tr>\n",
       "    <tr>\n",
       "        <td>Germany</td>\n",
       "        <td>4</td>\n",
       "        <td>334.62</td>\n",
       "        <td>8.16</td>\n",
       "        <td>83.66</td>\n",
       "    </tr>\n",
       "    <tr>\n",
       "        <td>Czech Republic</td>\n",
       "        <td>2</td>\n",
       "        <td>273.24</td>\n",
       "        <td>9.11</td>\n",
       "        <td>136.62</td>\n",
       "    </tr>\n",
       "    <tr>\n",
       "        <td>United Kingdom</td>\n",
       "        <td>3</td>\n",
       "        <td>245.52</td>\n",
       "        <td>8.77</td>\n",
       "        <td>81.84</td>\n",
       "    </tr>\n",
       "    <tr>\n",
       "        <td>Portugal</td>\n",
       "        <td>2</td>\n",
       "        <td>185.13</td>\n",
       "        <td>6.38</td>\n",
       "        <td>92.57</td>\n",
       "    </tr>\n",
       "    <tr>\n",
       "        <td>India</td>\n",
       "        <td>2</td>\n",
       "        <td>183.15</td>\n",
       "        <td>8.72</td>\n",
       "        <td>91.58</td>\n",
       "    </tr>\n",
       "    <tr>\n",
       "        <td>Other</td>\n",
       "        <td>15</td>\n",
       "        <td>1094.94</td>\n",
       "        <td>7.45</td>\n",
       "        <td>73.0</td>\n",
       "    </tr>\n",
       "</table>"
      ],
      "text/plain": [
       "[('USA', 13, 1040.49, 7.94, 80.04),\n",
       " ('Canada', 8, 535.59, 7.05, 66.95),\n",
       " ('Brazil', 5, 427.68, 7.01, 85.54),\n",
       " ('France', 5, 389.07, 7.78, 77.81),\n",
       " ('Germany', 4, 334.62, 8.16, 83.66),\n",
       " ('Czech Republic', 2, 273.24, 9.11, 136.62),\n",
       " ('United Kingdom', 3, 245.52, 8.77, 81.84),\n",
       " ('Portugal', 2, 185.13, 6.38, 92.57),\n",
       " ('India', 2, 183.15, 8.72, 91.58),\n",
       " ('Other', 15, 1094.94, 7.45, 73.0)]"
      ]
     },
     "execution_count": 76,
     "metadata": {},
     "output_type": "execute_result"
    }
   ],
   "source": [
    "%%sql\n",
    "\n",
    "WITH other_or_country AS \n",
    "    (SELECT\n",
    "     CASE\n",
    "             WHEN (\n",
    "                 SELECT count(*)\n",
    "                 FROM customer\n",
    "                 where country = c.country\n",
    "                   ) = 1 THEN \"Other\"\n",
    "             ELSE c.country\n",
    "     END AS country,\n",
    "     c.customer_id,\n",
    "     il.*\n",
    "     FROM invoice_line il\n",
    "     INNER JOIN invoice i ON i.invoice_id = il.invoice_id\n",
    "     INNER JOIN customer c ON c.customer_id = i.customer_id\n",
    "    )\n",
    "\n",
    "    \n",
    "SELECT\n",
    "    COUNTRY,\n",
    "    number_customers,\n",
    "    ROUND(total_sales,2) total_sales,\n",
    "    ROUND(average_per_order,2) average_per_order,\n",
    "    ROUND(average_sales_per_customer,2)average_sales_per_customer\n",
    "FROM (SELECT\n",
    "        COUNTRY,\n",
    "        COUNT(DISTINCT(customer_id)) number_customers,\n",
    "        SUM(unit_price) total_sales,\n",
    "        COUNT(DISTINCT(invoice_id)) number_order,\n",
    "        SUM(unit_price) / COUNT(DISTINCT(invoice_id)) average_per_order,\n",
    "        SUM(unit_price) / COUNT(DISTINCT(customer_id)) average_sales_per_customer,\n",
    "        CASE \n",
    "            WHEN country = 'Other' THEN 0\n",
    "            ELSE 1\n",
    "        END AS ord\n",
    "        FROM other_or_country\n",
    "        GROUP BY country\n",
    "        order by ord DESC, total_sales DESC\n",
    "      )\n",
    "    "
   ]
  },
  {
   "cell_type": "markdown",
   "metadata": {},
   "source": [
    "###  Albums vs Indidual Tracks"
   ]
  },
  {
   "cell_type": "markdown",
   "metadata": {},
   "source": [
    "The shop would like to know if they should focus on selling entier albums or only by tracks. The past sales might helps us to find the answer. \n",
    "another way to do [it](https://github.com/dataquestio/solutions/blob/master/Mission191Solutions.ipynb)"
   ]
  },
  {
   "cell_type": "markdown",
   "metadata": {},
   "source": [
    "In the bloc below:\n",
    "1. one subquery: group the invoice_line database by invoice_id & by album_id and add the number of tracks bought from each  album. \n",
    "2. one subquery: group the track database by album and add the number of tracks on the album\n",
    "3. left join the album_db to the invoice_db on the album_id \n",
    "4. create a binary if the selling of for each album was a full album by comparing the number of tracks for each albums in each invoice vs the normal number of tracks\n",
    "5. group again by invoice_id and sum the number of album per invoice\n",
    "6. conclude"
   ]
  },
  {
   "cell_type": "code",
   "execution_count": 77,
   "metadata": {},
   "outputs": [
    {
     "name": "stdout",
     "output_type": "stream",
     "text": [
      " * sqlite:///chinook.db\n",
      "Done.\n"
     ]
    },
    {
     "data": {
      "text/html": [
       "<table>\n",
       "    <tr>\n",
       "        <th>number_invoices</th>\n",
       "        <th>invoice_with_album_sold</th>\n",
       "        <th>per_invoices_with_album</th>\n",
       "    </tr>\n",
       "    <tr>\n",
       "        <td>614</td>\n",
       "        <td>111</td>\n",
       "        <td>0.18078175895765472</td>\n",
       "    </tr>\n",
       "</table>"
      ],
      "text/plain": [
       "[(614, 111, 0.18078175895765472)]"
      ]
     },
     "execution_count": 77,
     "metadata": {},
     "output_type": "execute_result"
    }
   ],
   "source": [
    "%%sql \n",
    "WITH invoices_album_tracks_sold AS\n",
    "    (\n",
    "    SELECT \n",
    "        invoice_id,\n",
    "        album_id,\n",
    "        COUNT(t.track_id) number_tracks_sold\n",
    "    FROM invoice_line il\n",
    "    INNER JOIN track t on t.track_id = il.track_id \n",
    "    GROUP BY invoice_id, album_id\n",
    "    ),\n",
    "\n",
    "albums_tracks_info AS\n",
    "    (\n",
    "    SELECT \n",
    "        album_id,\n",
    "        count(track_id) track_on_cd\n",
    "    from track\n",
    "    GROUP BY album_id  \n",
    "    ),\n",
    "\n",
    "invoices_with_full_album AS\n",
    "    (\n",
    "    SELECT \n",
    "    invoice_id,\n",
    "    iats.album_id,\n",
    "    CASE \n",
    "        WHEN (iats.number_tracks_sold = ati.track_on_cd and ati.track_on_cd > 2) THEN 1\n",
    "        ELSE 0\n",
    "        END AS full_album_sold\n",
    "    FROM invoices_album_tracks_sold iats\n",
    "    LEFT JOIN albums_tracks_info ati ON ati.album_id = iats.album_id\n",
    "    ),\n",
    "    \n",
    "unique_invoice_id_albums_sold AS\n",
    "    (\n",
    "    SELECT \n",
    "        invoice_id,\n",
    "        SUM(full_album_sold) album_sold\n",
    "    FROM invoices_with_full_album\n",
    "    GROUP BY invoice_id\n",
    "    )\n",
    "\n",
    "SELECT\n",
    "    COUNT(invoice_id) number_invoices,\n",
    "    SUM(album_sold) invoice_with_album_sold,\n",
    "    SUM(album_sold)/CAST(COUNT(invoice_id) as float) per_invoices_with_album\n",
    "FROM unique_invoice_id_albums_sold"
   ]
  },
  {
   "cell_type": "markdown",
   "metadata": {},
   "source": [
    "Conclusion 18% of all the invoices includes at least one album (some with more tracks in addition), so it would be a bad move to not propose to the clients to buy the full albums."
   ]
  },
  {
   "cell_type": "markdown",
   "metadata": {},
   "source": [
    "####  To go further\n",
    "If you'd like more practice, you can look at the schema and come up with some more business questions, and then write queries to answer them. Here are a few to get you started:\n",
    "\n",
    "- Which artist is used in the most playlists?\n",
    "- How many tracks have been purchased vs not purchased?\n",
    "- Is the range of tracks in the store reflective of their sales popularity?\n",
    "- Do protected vs non-protected media types have an effect on popularity?\n",
    "\n",
    "Link schematic Chinook database: https://s3.amazonaws.com/dq-content/189/chinook-schema.svg"
   ]
  }
 ],
 "metadata": {
  "kernelspec": {
   "display_name": "Python 3",
   "language": "python",
   "name": "python3"
  },
  "language_info": {
   "codemirror_mode": {
    "name": "ipython",
    "version": 3
   },
   "file_extension": ".py",
   "mimetype": "text/x-python",
   "name": "python",
   "nbconvert_exporter": "python",
   "pygments_lexer": "ipython3",
   "version": "3.7.6"
  }
 },
 "nbformat": 4,
 "nbformat_minor": 2
}
